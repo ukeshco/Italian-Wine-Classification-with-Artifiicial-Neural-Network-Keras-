{
 "cells": [
  {
   "cell_type": "markdown",
   "id": "1a7a63f3",
   "metadata": {},
   "source": [
    "# Italian Wine Classification Problem using Artificial Neural Net (Keras)"
   ]
  },
  {
   "cell_type": "code",
   "execution_count": 53,
   "id": "16fc3591",
   "metadata": {},
   "outputs": [],
   "source": [
    "# Load Libraries\n",
    "\n",
    "import numpy\n",
    "import pandas\n",
    "from keras.models import Sequential\n",
    "from keras.layers import Dense\n",
    "from keras.wrappers.scikit_learn import KerasClassifier\n",
    "from keras.utils import np_utils\n",
    "from keras.layers import Dropout\n",
    "from keras.constraints import maxnorm\n",
    "from tensorflow.keras.optimizers import SGD\n",
    "\n",
    "import seaborn as sns\n",
    "import matplotlib.pyplot as plt\n",
    "from sklearn.model_selection import cross_val_score\n",
    "from sklearn.model_selection import KFold\n",
    "from sklearn.preprocessing import LabelEncoder\n",
    "from sklearn.pipeline import Pipeline\n",
    "from sklearn.preprocessing import StandardScaler\n",
    "from tensorflow.keras.utils import to_categorical\n",
    "from sklearn.model_selection import train_test_split\n",
    "from sklearn.pipeline import Pipeline\n",
    "\n",
    "\n",
    "from numpy import interp\n",
    "from itertools import cycle\n",
    "from sklearn.metrics import roc_curve, auc\n",
    "from sklearn.metrics import confusion_matrix, classification_report"
   ]
  },
  {
   "cell_type": "code",
   "execution_count": 9,
   "id": "c23bd43a",
   "metadata": {},
   "outputs": [
    {
     "data": {
      "text/plain": [
       "(178, 14)"
      ]
     },
     "execution_count": 9,
     "metadata": {},
     "output_type": "execute_result"
    }
   ],
   "source": [
    "# fix random seed for reproducibility (initialization of weights is random)\n",
    "seed = 7\n",
    "numpy.random.seed(seed)\n",
    "\n",
    "# Load Data\n",
    "dataset = numpy.loadtxt(\"wine.data\", delimiter = \",\")\n",
    "dataset.shape"
   ]
  },
  {
   "cell_type": "markdown",
   "id": "14043f39",
   "metadata": {},
   "source": [
    "**The wine dataset is obtained from UCI Machine Learning Repository (https://archive.ics.uci.edu/ml/datasets/Wine), which comprised of 178 instances with 13 attributes. The first column \"Alcohol\" is the target column with Class values 0 ,1 and 2. There are no missing values in the dataset. Let's split the data into dependent variables (X) and target variable (y)**"
   ]
  },
  {
   "cell_type": "markdown",
   "id": "fca0afab",
   "metadata": {},
   "source": [
    "<div class=\"alert alert-block alert-info\">\n",
    "    \n",
    "<b>The names of the columns are:</b>   \n",
    "\n",
    "1. Alcohol\n",
    "2. Malic acid\n",
    "3. Ash\n",
    "4. Alcalinity of ash  \n",
    "5. Magnesium\n",
    "6. Total phenols\n",
    "7. Flavanoids\n",
    "8. Nonflavanoid phenols\n",
    "9. Proanthocyanins\n",
    "10. Color intensity\n",
    "11. Hue\n",
    "12. OD280/OD315 of diluted wines\n",
    "13. roline\n",
    "\n",
    "    \n",
    "</div>"
   ]
  },
  {
   "cell_type": "code",
   "execution_count": 10,
   "id": "05462cf5",
   "metadata": {},
   "outputs": [],
   "source": [
    "# split into input (X) and output (Y) variables\n",
    "X = dataset[:,1:].astype('float32')\n",
    "y = dataset[:,0]\n",
    "\n",
    "# encode class values as integers\n",
    "encoder = LabelEncoder()\n",
    "encoder.fit(y)\n",
    "y = encoder.transform(y)\n",
    "\n",
    "# convert integers to dummy variables (i.e. one hot encoded)\n",
    "dummy_y = np_utils.to_categorical(y)\n",
    "\n",
    "# one hot encode output variable\n",
    "#y_oneHot = to_categorical(y)"
   ]
  },
  {
   "cell_type": "code",
   "execution_count": 4,
   "id": "d6a4a071",
   "metadata": {},
   "outputs": [
    {
     "data": {
      "text/plain": [
       "{0: 59, 1: 71, 2: 48}"
      ]
     },
     "execution_count": 4,
     "metadata": {},
     "output_type": "execute_result"
    }
   ],
   "source": [
    "# class values breakdown\n",
    "unique, counts = numpy.unique(y, return_counts=True)\n",
    "dict(zip(unique, counts))"
   ]
  },
  {
   "cell_type": "markdown",
   "id": "757f1a75",
   "metadata": {},
   "source": [
    "**There are 59, 71, and 48 instances for class values 0, 1, and 2 respectively. We can assume the datasset reasonably balanced**"
   ]
  },
  {
   "cell_type": "code",
   "execution_count": 5,
   "id": "1c299e2c",
   "metadata": {},
   "outputs": [
    {
     "name": "stdout",
     "output_type": "stream",
     "text": [
      "Size of X :  (178, 13)\n"
     ]
    },
    {
     "data": {
      "text/plain": [
       "array([1.423e+01, 1.710e+00, 2.430e+00, 1.560e+01, 1.270e+02, 2.800e+00,\n",
       "       3.060e+00, 2.800e-01, 2.290e+00, 5.640e+00, 1.040e+00, 3.920e+00,\n",
       "       1.065e+03], dtype=float32)"
      ]
     },
     "execution_count": 5,
     "metadata": {},
     "output_type": "execute_result"
    }
   ],
   "source": [
    "# first row of X\n",
    "print(\"Size of X : \", X.shape)\n",
    "X[0,:]"
   ]
  },
  {
   "cell_type": "markdown",
   "id": "fd17d901",
   "metadata": {},
   "source": [
    "**X values are all positive continuous real numbers. The scale of the last predictor seems to be higher in comparision to other variables**"
   ]
  },
  {
   "cell_type": "code",
   "execution_count": 14,
   "id": "b3056c7d",
   "metadata": {},
   "outputs": [
    {
     "data": {
      "text/plain": [
       "(178, 3)"
      ]
     },
     "execution_count": 14,
     "metadata": {},
     "output_type": "execute_result"
    }
   ],
   "source": [
    "# size of dummy_y\n",
    "dummy_y.shape"
   ]
  },
  {
   "cell_type": "markdown",
   "id": "b6b96df0",
   "metadata": {},
   "source": [
    "## 1) Defining Baseline Neural Network (Mulltilayer Perceptrons) Model "
   ]
  },
  {
   "cell_type": "markdown",
   "id": "88ec4701",
   "metadata": {},
   "source": [
    "### 1a) Using Automatic Verification Dataset"
   ]
  },
  {
   "cell_type": "code",
   "execution_count": 7,
   "id": "63960fa8",
   "metadata": {},
   "outputs": [
    {
     "name": "stdout",
     "output_type": "stream",
     "text": [
      "Epoch 1/200\n",
      "15/15 [==============================] - 0s 9ms/step - loss: 0.8369 - accuracy: 0.5634 - val_loss: 2.1897 - val_accuracy: 0.0000e+00\n",
      "Epoch 2/200\n",
      "15/15 [==============================] - 0s 2ms/step - loss: 0.7524 - accuracy: 0.7324 - val_loss: 2.3165 - val_accuracy: 0.0000e+00\n",
      "Epoch 3/200\n",
      "15/15 [==============================] - 0s 3ms/step - loss: 0.7278 - accuracy: 0.7817 - val_loss: 2.4287 - val_accuracy: 0.0000e+00\n",
      "Epoch 4/200\n",
      "15/15 [==============================] - 0s 3ms/step - loss: 0.6609 - accuracy: 0.8239 - val_loss: 2.2642 - val_accuracy: 0.0000e+00\n",
      "Epoch 5/200\n",
      "15/15 [==============================] - 0s 3ms/step - loss: 0.6120 - accuracy: 0.7817 - val_loss: 2.3145 - val_accuracy: 0.0000e+00\n",
      "Epoch 6/200\n",
      "15/15 [==============================] - 0s 3ms/step - loss: 0.5729 - accuracy: 0.8169 - val_loss: 2.2644 - val_accuracy: 0.0000e+00\n",
      "Epoch 7/200\n",
      "15/15 [==============================] - 0s 3ms/step - loss: 0.5510 - accuracy: 0.8169 - val_loss: 1.9593 - val_accuracy: 0.0000e+00\n",
      "Epoch 8/200\n",
      "15/15 [==============================] - 0s 3ms/step - loss: 0.5211 - accuracy: 0.8169 - val_loss: 2.0990 - val_accuracy: 0.0000e+00\n",
      "Epoch 9/200\n",
      "15/15 [==============================] - 0s 2ms/step - loss: 0.5153 - accuracy: 0.8169 - val_loss: 2.2202 - val_accuracy: 0.0000e+00\n",
      "Epoch 10/200\n",
      "15/15 [==============================] - 0s 2ms/step - loss: 0.5079 - accuracy: 0.8028 - val_loss: 2.3335 - val_accuracy: 0.0000e+00\n",
      "Epoch 11/200\n",
      "15/15 [==============================] - 0s 3ms/step - loss: 0.5139 - accuracy: 0.7958 - val_loss: 2.0726 - val_accuracy: 0.0000e+00\n",
      "Epoch 12/200\n",
      "15/15 [==============================] - 0s 3ms/step - loss: 0.4768 - accuracy: 0.8310 - val_loss: 2.1521 - val_accuracy: 0.0000e+00\n",
      "Epoch 13/200\n",
      "15/15 [==============================] - 0s 3ms/step - loss: 0.4701 - accuracy: 0.8451 - val_loss: 2.0996 - val_accuracy: 0.0000e+00\n",
      "Epoch 14/200\n",
      "15/15 [==============================] - 0s 3ms/step - loss: 0.4857 - accuracy: 0.8028 - val_loss: 2.1812 - val_accuracy: 0.0000e+00\n",
      "Epoch 15/200\n",
      "15/15 [==============================] - 0s 2ms/step - loss: 0.4626 - accuracy: 0.8239 - val_loss: 2.1937 - val_accuracy: 0.0000e+00\n",
      "Epoch 16/200\n",
      "15/15 [==============================] - 0s 2ms/step - loss: 0.4558 - accuracy: 0.8239 - val_loss: 2.2338 - val_accuracy: 0.0000e+00\n",
      "Epoch 17/200\n",
      "15/15 [==============================] - 0s 3ms/step - loss: 0.4458 - accuracy: 0.8380 - val_loss: 2.0761 - val_accuracy: 0.0000e+00\n",
      "Epoch 18/200\n",
      "15/15 [==============================] - 0s 3ms/step - loss: 0.4487 - accuracy: 0.8239 - val_loss: 1.9766 - val_accuracy: 0.0000e+00\n",
      "Epoch 19/200\n",
      "15/15 [==============================] - 0s 3ms/step - loss: 0.4302 - accuracy: 0.8521 - val_loss: 1.9669 - val_accuracy: 0.0000e+00\n",
      "Epoch 20/200\n",
      "15/15 [==============================] - 0s 3ms/step - loss: 0.4590 - accuracy: 0.8028 - val_loss: 2.3218 - val_accuracy: 0.0000e+00\n",
      "Epoch 21/200\n",
      "15/15 [==============================] - 0s 2ms/step - loss: 0.4707 - accuracy: 0.8310 - val_loss: 2.0539 - val_accuracy: 0.0000e+00\n",
      "Epoch 22/200\n",
      "15/15 [==============================] - 0s 3ms/step - loss: 0.4659 - accuracy: 0.8380 - val_loss: 2.1762 - val_accuracy: 0.0000e+00\n",
      "Epoch 23/200\n",
      "15/15 [==============================] - 0s 3ms/step - loss: 0.4288 - accuracy: 0.8239 - val_loss: 1.9555 - val_accuracy: 0.0000e+00\n",
      "Epoch 24/200\n",
      "15/15 [==============================] - 0s 2ms/step - loss: 0.4384 - accuracy: 0.8380 - val_loss: 2.1138 - val_accuracy: 0.0000e+00\n",
      "Epoch 25/200\n",
      "15/15 [==============================] - 0s 3ms/step - loss: 0.4288 - accuracy: 0.8451 - val_loss: 1.9523 - val_accuracy: 0.0000e+00\n",
      "Epoch 26/200\n",
      "15/15 [==============================] - 0s 3ms/step - loss: 0.4309 - accuracy: 0.8380 - val_loss: 1.9923 - val_accuracy: 0.0000e+00\n",
      "Epoch 27/200\n",
      "15/15 [==============================] - 0s 3ms/step - loss: 0.4771 - accuracy: 0.8169 - val_loss: 2.2903 - val_accuracy: 0.0000e+00\n",
      "Epoch 28/200\n",
      "15/15 [==============================] - 0s 3ms/step - loss: 0.4957 - accuracy: 0.8028 - val_loss: 1.9561 - val_accuracy: 0.0000e+00\n",
      "Epoch 29/200\n",
      "15/15 [==============================] - 0s 3ms/step - loss: 0.4283 - accuracy: 0.8099 - val_loss: 2.0123 - val_accuracy: 0.0000e+00\n",
      "Epoch 30/200\n",
      "15/15 [==============================] - 0s 3ms/step - loss: 0.4257 - accuracy: 0.8310 - val_loss: 1.5845 - val_accuracy: 0.0000e+00\n",
      "Epoch 31/200\n",
      "15/15 [==============================] - 0s 3ms/step - loss: 0.4399 - accuracy: 0.8451 - val_loss: 1.7951 - val_accuracy: 0.0000e+00\n",
      "Epoch 32/200\n",
      "15/15 [==============================] - 0s 3ms/step - loss: 0.4216 - accuracy: 0.8310 - val_loss: 2.0673 - val_accuracy: 0.0000e+00\n",
      "Epoch 33/200\n",
      "15/15 [==============================] - 0s 3ms/step - loss: 0.4315 - accuracy: 0.8521 - val_loss: 2.0984 - val_accuracy: 0.0000e+00\n",
      "Epoch 34/200\n",
      "15/15 [==============================] - 0s 3ms/step - loss: 0.4075 - accuracy: 0.8451 - val_loss: 1.7842 - val_accuracy: 0.0000e+00\n",
      "Epoch 35/200\n",
      "15/15 [==============================] - 0s 3ms/step - loss: 0.4239 - accuracy: 0.8380 - val_loss: 1.6992 - val_accuracy: 0.0000e+00\n",
      "Epoch 36/200\n",
      "15/15 [==============================] - 0s 3ms/step - loss: 0.4081 - accuracy: 0.8451 - val_loss: 1.9238 - val_accuracy: 0.0000e+00\n",
      "Epoch 37/200\n",
      "15/15 [==============================] - 0s 3ms/step - loss: 0.4273 - accuracy: 0.8239 - val_loss: 1.8921 - val_accuracy: 0.0000e+00\n",
      "Epoch 38/200\n",
      "15/15 [==============================] - 0s 3ms/step - loss: 0.4068 - accuracy: 0.8380 - val_loss: 1.7871 - val_accuracy: 0.0000e+00\n",
      "Epoch 39/200\n",
      "15/15 [==============================] - 0s 3ms/step - loss: 0.4049 - accuracy: 0.8239 - val_loss: 1.9515 - val_accuracy: 0.0000e+00\n",
      "Epoch 40/200\n",
      "15/15 [==============================] - 0s 2ms/step - loss: 0.4024 - accuracy: 0.8451 - val_loss: 1.7972 - val_accuracy: 0.0000e+00\n",
      "Epoch 41/200\n",
      "15/15 [==============================] - 0s 3ms/step - loss: 0.4074 - accuracy: 0.8169 - val_loss: 1.8799 - val_accuracy: 0.0000e+00\n",
      "Epoch 42/200\n",
      "15/15 [==============================] - 0s 3ms/step - loss: 0.4211 - accuracy: 0.8380 - val_loss: 1.6604 - val_accuracy: 0.0000e+00\n",
      "Epoch 43/200\n",
      "15/15 [==============================] - 0s 3ms/step - loss: 0.4292 - accuracy: 0.8380 - val_loss: 1.8056 - val_accuracy: 0.0000e+00\n",
      "Epoch 44/200\n",
      "15/15 [==============================] - 0s 3ms/step - loss: 0.3986 - accuracy: 0.8451 - val_loss: 1.7846 - val_accuracy: 0.0000e+00\n",
      "Epoch 45/200\n",
      "15/15 [==============================] - 0s 3ms/step - loss: 0.3852 - accuracy: 0.8521 - val_loss: 1.7340 - val_accuracy: 0.0000e+00\n",
      "Epoch 46/200\n",
      "15/15 [==============================] - 0s 2ms/step - loss: 0.3858 - accuracy: 0.8521 - val_loss: 1.6175 - val_accuracy: 0.0000e+00\n",
      "Epoch 47/200\n",
      "15/15 [==============================] - 0s 3ms/step - loss: 0.3828 - accuracy: 0.8451 - val_loss: 1.7105 - val_accuracy: 0.0000e+00\n",
      "Epoch 48/200\n",
      "15/15 [==============================] - 0s 3ms/step - loss: 0.3787 - accuracy: 0.8521 - val_loss: 1.7048 - val_accuracy: 0.0000e+00\n",
      "Epoch 49/200\n",
      "15/15 [==============================] - 0s 3ms/step - loss: 0.3792 - accuracy: 0.8451 - val_loss: 1.8790 - val_accuracy: 0.0000e+00\n",
      "Epoch 50/200\n",
      "15/15 [==============================] - 0s 3ms/step - loss: 0.3871 - accuracy: 0.8451 - val_loss: 1.6045 - val_accuracy: 0.0000e+00\n",
      "Epoch 51/200\n",
      "15/15 [==============================] - 0s 3ms/step - loss: 0.3730 - accuracy: 0.8451 - val_loss: 1.8911 - val_accuracy: 0.0000e+00\n",
      "Epoch 52/200\n",
      "15/15 [==============================] - 0s 2ms/step - loss: 0.4388 - accuracy: 0.8239 - val_loss: 1.4369 - val_accuracy: 0.0278\n",
      "Epoch 53/200\n",
      "15/15 [==============================] - 0s 3ms/step - loss: 0.3868 - accuracy: 0.8521 - val_loss: 1.6899 - val_accuracy: 0.0000e+00\n",
      "Epoch 54/200\n",
      "15/15 [==============================] - 0s 2ms/step - loss: 0.3746 - accuracy: 0.8451 - val_loss: 1.5589 - val_accuracy: 0.0000e+00\n",
      "Epoch 55/200\n",
      "15/15 [==============================] - 0s 2ms/step - loss: 0.3741 - accuracy: 0.8592 - val_loss: 1.6609 - val_accuracy: 0.0000e+00\n",
      "Epoch 56/200\n",
      "15/15 [==============================] - 0s 3ms/step - loss: 0.3691 - accuracy: 0.8592 - val_loss: 1.6501 - val_accuracy: 0.0000e+00\n",
      "Epoch 57/200\n"
     ]
    },
    {
     "name": "stdout",
     "output_type": "stream",
     "text": [
      "15/15 [==============================] - 0s 2ms/step - loss: 0.3619 - accuracy: 0.8521 - val_loss: 1.4922 - val_accuracy: 0.0000e+00\n",
      "Epoch 58/200\n",
      "15/15 [==============================] - 0s 3ms/step - loss: 0.4028 - accuracy: 0.8310 - val_loss: 1.8035 - val_accuracy: 0.0000e+00\n",
      "Epoch 59/200\n",
      "15/15 [==============================] - 0s 2ms/step - loss: 0.3598 - accuracy: 0.8521 - val_loss: 1.3565 - val_accuracy: 0.1111\n",
      "Epoch 60/200\n",
      "15/15 [==============================] - 0s 2ms/step - loss: 0.3556 - accuracy: 0.8380 - val_loss: 1.5475 - val_accuracy: 0.0000e+00\n",
      "Epoch 61/200\n",
      "15/15 [==============================] - 0s 3ms/step - loss: 0.3562 - accuracy: 0.8592 - val_loss: 1.4861 - val_accuracy: 0.0000e+00\n",
      "Epoch 62/200\n",
      "15/15 [==============================] - 0s 2ms/step - loss: 0.3505 - accuracy: 0.8521 - val_loss: 1.4214 - val_accuracy: 0.0000e+00\n",
      "Epoch 63/200\n",
      "15/15 [==============================] - 0s 3ms/step - loss: 0.3471 - accuracy: 0.8521 - val_loss: 1.4246 - val_accuracy: 0.0556\n",
      "Epoch 64/200\n",
      "15/15 [==============================] - 0s 2ms/step - loss: 0.3489 - accuracy: 0.8451 - val_loss: 1.3386 - val_accuracy: 0.0556\n",
      "Epoch 65/200\n",
      "15/15 [==============================] - 0s 3ms/step - loss: 0.4055 - accuracy: 0.8451 - val_loss: 1.3941 - val_accuracy: 0.0556\n",
      "Epoch 66/200\n",
      "15/15 [==============================] - 0s 3ms/step - loss: 0.3398 - accuracy: 0.8662 - val_loss: 1.3355 - val_accuracy: 0.0278\n",
      "Epoch 67/200\n",
      "15/15 [==============================] - 0s 3ms/step - loss: 0.3497 - accuracy: 0.8521 - val_loss: 1.1671 - val_accuracy: 0.1944\n",
      "Epoch 68/200\n",
      "15/15 [==============================] - 0s 2ms/step - loss: 0.3485 - accuracy: 0.8662 - val_loss: 1.1606 - val_accuracy: 0.2222\n",
      "Epoch 69/200\n",
      "15/15 [==============================] - 0s 2ms/step - loss: 0.3650 - accuracy: 0.8451 - val_loss: 1.5623 - val_accuracy: 0.0000e+00\n",
      "Epoch 70/200\n",
      "15/15 [==============================] - 0s 2ms/step - loss: 0.3583 - accuracy: 0.8380 - val_loss: 0.9537 - val_accuracy: 0.5000\n",
      "Epoch 71/200\n",
      "15/15 [==============================] - 0s 3ms/step - loss: 0.3675 - accuracy: 0.8662 - val_loss: 1.4216 - val_accuracy: 0.0000e+00\n",
      "Epoch 72/200\n",
      "15/15 [==============================] - 0s 2ms/step - loss: 0.3392 - accuracy: 0.8451 - val_loss: 0.9661 - val_accuracy: 0.5000\n",
      "Epoch 73/200\n",
      "15/15 [==============================] - 0s 2ms/step - loss: 0.3262 - accuracy: 0.8732 - val_loss: 1.4038 - val_accuracy: 0.0278\n",
      "Epoch 74/200\n",
      "15/15 [==============================] - 0s 2ms/step - loss: 0.3266 - accuracy: 0.8451 - val_loss: 1.1048 - val_accuracy: 0.2778\n",
      "Epoch 75/200\n",
      "15/15 [==============================] - 0s 2ms/step - loss: 0.3421 - accuracy: 0.8803 - val_loss: 1.0619 - val_accuracy: 0.3056\n",
      "Epoch 76/200\n",
      "15/15 [==============================] - 0s 2ms/step - loss: 0.3445 - accuracy: 0.8451 - val_loss: 1.3617 - val_accuracy: 0.1667\n",
      "Epoch 77/200\n",
      "15/15 [==============================] - 0s 3ms/step - loss: 0.3288 - accuracy: 0.8592 - val_loss: 1.0017 - val_accuracy: 0.4167\n",
      "Epoch 78/200\n",
      "15/15 [==============================] - 0s 2ms/step - loss: 0.3157 - accuracy: 0.8592 - val_loss: 1.1459 - val_accuracy: 0.3056\n",
      "Epoch 79/200\n",
      "15/15 [==============================] - 0s 3ms/step - loss: 0.3376 - accuracy: 0.8521 - val_loss: 1.1002 - val_accuracy: 0.2778\n",
      "Epoch 80/200\n",
      "15/15 [==============================] - 0s 3ms/step - loss: 0.3171 - accuracy: 0.9085 - val_loss: 0.9525 - val_accuracy: 0.5000\n",
      "Epoch 81/200\n",
      "15/15 [==============================] - 0s 3ms/step - loss: 0.3345 - accuracy: 0.8521 - val_loss: 0.9607 - val_accuracy: 0.5000\n",
      "Epoch 82/200\n",
      "15/15 [==============================] - 0s 3ms/step - loss: 0.3094 - accuracy: 0.8873 - val_loss: 0.9595 - val_accuracy: 0.5000\n",
      "Epoch 83/200\n",
      "15/15 [==============================] - 0s 3ms/step - loss: 0.2976 - accuracy: 0.8873 - val_loss: 0.9009 - val_accuracy: 0.6111\n",
      "Epoch 84/200\n",
      "15/15 [==============================] - 0s 3ms/step - loss: 0.3169 - accuracy: 0.8662 - val_loss: 0.8375 - val_accuracy: 0.6111\n",
      "Epoch 85/200\n",
      "15/15 [==============================] - 0s 2ms/step - loss: 0.3288 - accuracy: 0.8803 - val_loss: 0.7530 - val_accuracy: 0.6944\n",
      "Epoch 86/200\n",
      "15/15 [==============================] - 0s 2ms/step - loss: 0.2810 - accuracy: 0.8592 - val_loss: 0.8295 - val_accuracy: 0.5833\n",
      "Epoch 87/200\n",
      "15/15 [==============================] - 0s 2ms/step - loss: 0.2885 - accuracy: 0.8873 - val_loss: 0.8400 - val_accuracy: 0.6389\n",
      "Epoch 88/200\n",
      "15/15 [==============================] - 0s 2ms/step - loss: 0.2860 - accuracy: 0.8592 - val_loss: 0.6352 - val_accuracy: 0.7778\n",
      "Epoch 89/200\n",
      "15/15 [==============================] - 0s 2ms/step - loss: 0.2809 - accuracy: 0.8592 - val_loss: 0.8893 - val_accuracy: 0.5556\n",
      "Epoch 90/200\n",
      "15/15 [==============================] - 0s 2ms/step - loss: 0.2708 - accuracy: 0.8873 - val_loss: 0.6598 - val_accuracy: 0.7222\n",
      "Epoch 91/200\n",
      "15/15 [==============================] - 0s 3ms/step - loss: 0.2717 - accuracy: 0.8873 - val_loss: 0.6689 - val_accuracy: 0.7778\n",
      "Epoch 92/200\n",
      "15/15 [==============================] - 0s 3ms/step - loss: 0.2782 - accuracy: 0.8592 - val_loss: 0.6237 - val_accuracy: 0.7778\n",
      "Epoch 93/200\n",
      "15/15 [==============================] - 0s 2ms/step - loss: 0.2763 - accuracy: 0.8873 - val_loss: 0.7435 - val_accuracy: 0.6944\n",
      "Epoch 94/200\n",
      "15/15 [==============================] - 0s 2ms/step - loss: 0.2646 - accuracy: 0.8944 - val_loss: 0.7629 - val_accuracy: 0.6944\n",
      "Epoch 95/200\n",
      "15/15 [==============================] - 0s 2ms/step - loss: 0.2756 - accuracy: 0.8803 - val_loss: 0.5733 - val_accuracy: 0.8056\n",
      "Epoch 96/200\n",
      "15/15 [==============================] - 0s 2ms/step - loss: 0.2973 - accuracy: 0.8662 - val_loss: 0.4564 - val_accuracy: 0.8333\n",
      "Epoch 97/200\n",
      "15/15 [==============================] - 0s 3ms/step - loss: 0.2672 - accuracy: 0.9014 - val_loss: 0.7322 - val_accuracy: 0.7222\n",
      "Epoch 98/200\n",
      "15/15 [==============================] - 0s 3ms/step - loss: 0.2610 - accuracy: 0.9014 - val_loss: 0.6103 - val_accuracy: 0.7500\n",
      "Epoch 99/200\n",
      "15/15 [==============================] - 0s 2ms/step - loss: 0.2607 - accuracy: 0.8662 - val_loss: 0.5826 - val_accuracy: 0.8056\n",
      "Epoch 100/200\n",
      "15/15 [==============================] - 0s 2ms/step - loss: 0.2462 - accuracy: 0.9155 - val_loss: 0.5779 - val_accuracy: 0.7778\n",
      "Epoch 101/200\n",
      "15/15 [==============================] - 0s 3ms/step - loss: 0.2622 - accuracy: 0.8873 - val_loss: 0.5558 - val_accuracy: 0.7778\n",
      "Epoch 102/200\n",
      "15/15 [==============================] - 0s 3ms/step - loss: 0.2638 - accuracy: 0.8944 - val_loss: 0.3546 - val_accuracy: 0.8889\n",
      "Epoch 103/200\n",
      "15/15 [==============================] - 0s 2ms/step - loss: 0.2685 - accuracy: 0.8944 - val_loss: 0.5991 - val_accuracy: 0.8056\n",
      "Epoch 104/200\n",
      "15/15 [==============================] - 0s 2ms/step - loss: 0.2809 - accuracy: 0.8873 - val_loss: 0.7589 - val_accuracy: 0.6389\n",
      "Epoch 105/200\n",
      "15/15 [==============================] - 0s 2ms/step - loss: 0.2779 - accuracy: 0.9155 - val_loss: 0.4906 - val_accuracy: 0.8333\n",
      "Epoch 106/200\n",
      "15/15 [==============================] - 0s 2ms/step - loss: 0.2319 - accuracy: 0.9155 - val_loss: 0.4506 - val_accuracy: 0.8611\n",
      "Epoch 107/200\n",
      "15/15 [==============================] - 0s 3ms/step - loss: 0.2385 - accuracy: 0.9155 - val_loss: 0.4210 - val_accuracy: 0.8889\n",
      "Epoch 108/200\n",
      "15/15 [==============================] - 0s 2ms/step - loss: 0.2362 - accuracy: 0.9437 - val_loss: 0.6618 - val_accuracy: 0.7500\n",
      "Epoch 109/200\n",
      "15/15 [==============================] - 0s 3ms/step - loss: 0.2297 - accuracy: 0.8873 - val_loss: 0.4031 - val_accuracy: 0.8611\n",
      "Epoch 110/200\n",
      "15/15 [==============================] - 0s 3ms/step - loss: 0.2195 - accuracy: 0.9155 - val_loss: 0.2955 - val_accuracy: 0.9722\n",
      "Epoch 111/200\n",
      "15/15 [==============================] - 0s 2ms/step - loss: 0.2346 - accuracy: 0.9296 - val_loss: 0.7832 - val_accuracy: 0.6389\n",
      "Epoch 112/200\n",
      "15/15 [==============================] - 0s 3ms/step - loss: 0.2483 - accuracy: 0.9155 - val_loss: 0.3103 - val_accuracy: 0.9444\n",
      "Epoch 113/200\n",
      "15/15 [==============================] - 0s 3ms/step - loss: 0.2152 - accuracy: 0.9366 - val_loss: 0.4244 - val_accuracy: 0.8889\n",
      "Epoch 114/200\n"
     ]
    },
    {
     "name": "stdout",
     "output_type": "stream",
     "text": [
      "15/15 [==============================] - 0s 3ms/step - loss: 0.2197 - accuracy: 0.9225 - val_loss: 0.2683 - val_accuracy: 0.9722\n",
      "Epoch 115/200\n",
      "15/15 [==============================] - 0s 3ms/step - loss: 0.2201 - accuracy: 0.9296 - val_loss: 0.4735 - val_accuracy: 0.8611\n",
      "Epoch 116/200\n",
      "15/15 [==============================] - 0s 2ms/step - loss: 0.2182 - accuracy: 0.9225 - val_loss: 0.2740 - val_accuracy: 0.9444\n",
      "Epoch 117/200\n",
      "15/15 [==============================] - 0s 2ms/step - loss: 0.2315 - accuracy: 0.9296 - val_loss: 0.2423 - val_accuracy: 0.9722\n",
      "Epoch 118/200\n",
      "15/15 [==============================] - 0s 2ms/step - loss: 0.2382 - accuracy: 0.9085 - val_loss: 0.3809 - val_accuracy: 0.9167\n",
      "Epoch 119/200\n",
      "15/15 [==============================] - 0s 2ms/step - loss: 0.2189 - accuracy: 0.9366 - val_loss: 0.4060 - val_accuracy: 0.8889\n",
      "Epoch 120/200\n",
      "15/15 [==============================] - 0s 3ms/step - loss: 0.2075 - accuracy: 0.9366 - val_loss: 0.2729 - val_accuracy: 0.9444\n",
      "Epoch 121/200\n",
      "15/15 [==============================] - 0s 2ms/step - loss: 0.2157 - accuracy: 0.9437 - val_loss: 0.3072 - val_accuracy: 0.9167\n",
      "Epoch 122/200\n",
      "15/15 [==============================] - 0s 2ms/step - loss: 0.2099 - accuracy: 0.9437 - val_loss: 0.5050 - val_accuracy: 0.8333\n",
      "Epoch 123/200\n",
      "15/15 [==============================] - 0s 2ms/step - loss: 0.2809 - accuracy: 0.8873 - val_loss: 0.2096 - val_accuracy: 0.9722\n",
      "Epoch 124/200\n",
      "15/15 [==============================] - 0s 2ms/step - loss: 0.2210 - accuracy: 0.9014 - val_loss: 0.2157 - val_accuracy: 0.9722\n",
      "Epoch 125/200\n",
      "15/15 [==============================] - 0s 2ms/step - loss: 0.2014 - accuracy: 0.9437 - val_loss: 0.3164 - val_accuracy: 0.9167\n",
      "Epoch 126/200\n",
      "15/15 [==============================] - 0s 3ms/step - loss: 0.1985 - accuracy: 0.9507 - val_loss: 0.2760 - val_accuracy: 0.9444\n",
      "Epoch 127/200\n",
      "15/15 [==============================] - 0s 2ms/step - loss: 0.1921 - accuracy: 0.9366 - val_loss: 0.2560 - val_accuracy: 0.9722\n",
      "Epoch 128/200\n",
      "15/15 [==============================] - 0s 2ms/step - loss: 0.1983 - accuracy: 0.9507 - val_loss: 0.2492 - val_accuracy: 0.9444\n",
      "Epoch 129/200\n",
      "15/15 [==============================] - 0s 3ms/step - loss: 0.2182 - accuracy: 0.9085 - val_loss: 0.2004 - val_accuracy: 0.9722\n",
      "Epoch 130/200\n",
      "15/15 [==============================] - 0s 2ms/step - loss: 0.1926 - accuracy: 0.9296 - val_loss: 0.2475 - val_accuracy: 0.9722\n",
      "Epoch 131/200\n",
      "15/15 [==============================] - 0s 3ms/step - loss: 0.2209 - accuracy: 0.9085 - val_loss: 0.2227 - val_accuracy: 0.9444\n",
      "Epoch 132/200\n",
      "15/15 [==============================] - 0s 2ms/step - loss: 0.2017 - accuracy: 0.9437 - val_loss: 0.3256 - val_accuracy: 0.9167\n",
      "Epoch 133/200\n",
      "15/15 [==============================] - 0s 2ms/step - loss: 0.2166 - accuracy: 0.9296 - val_loss: 0.2515 - val_accuracy: 0.9444\n",
      "Epoch 134/200\n",
      "15/15 [==============================] - 0s 3ms/step - loss: 0.2161 - accuracy: 0.9296 - val_loss: 0.1857 - val_accuracy: 0.9444\n",
      "Epoch 135/200\n",
      "15/15 [==============================] - 0s 3ms/step - loss: 0.1950 - accuracy: 0.9296 - val_loss: 0.3016 - val_accuracy: 0.9444\n",
      "Epoch 136/200\n",
      "15/15 [==============================] - 0s 3ms/step - loss: 0.1854 - accuracy: 0.9366 - val_loss: 0.2241 - val_accuracy: 0.9444\n",
      "Epoch 137/200\n",
      "15/15 [==============================] - 0s 2ms/step - loss: 0.1812 - accuracy: 0.9437 - val_loss: 0.1542 - val_accuracy: 0.9722\n",
      "Epoch 138/200\n",
      "15/15 [==============================] - 0s 2ms/step - loss: 0.1785 - accuracy: 0.9437 - val_loss: 0.2372 - val_accuracy: 0.9444\n",
      "Epoch 139/200\n",
      "15/15 [==============================] - 0s 3ms/step - loss: 0.1830 - accuracy: 0.9366 - val_loss: 0.2860 - val_accuracy: 0.9444\n",
      "Epoch 140/200\n",
      "15/15 [==============================] - 0s 2ms/step - loss: 0.1958 - accuracy: 0.9296 - val_loss: 0.2202 - val_accuracy: 0.9444\n",
      "Epoch 141/200\n",
      "15/15 [==============================] - 0s 2ms/step - loss: 0.1723 - accuracy: 0.9366 - val_loss: 0.1448 - val_accuracy: 0.9722\n",
      "Epoch 142/200\n",
      "15/15 [==============================] - 0s 2ms/step - loss: 0.1846 - accuracy: 0.9437 - val_loss: 0.2920 - val_accuracy: 0.9444\n",
      "Epoch 143/200\n",
      "15/15 [==============================] - 0s 2ms/step - loss: 0.2027 - accuracy: 0.9366 - val_loss: 0.2284 - val_accuracy: 0.9444\n",
      "Epoch 144/200\n",
      "15/15 [==============================] - 0s 3ms/step - loss: 0.1761 - accuracy: 0.9296 - val_loss: 0.1569 - val_accuracy: 0.9722\n",
      "Epoch 145/200\n",
      "15/15 [==============================] - 0s 3ms/step - loss: 0.1935 - accuracy: 0.9507 - val_loss: 0.2030 - val_accuracy: 0.9444\n",
      "Epoch 146/200\n",
      "15/15 [==============================] - 0s 2ms/step - loss: 0.1871 - accuracy: 0.9437 - val_loss: 0.1125 - val_accuracy: 0.9722\n",
      "Epoch 147/200\n",
      "15/15 [==============================] - 0s 3ms/step - loss: 0.1939 - accuracy: 0.9014 - val_loss: 0.1638 - val_accuracy: 0.9722\n",
      "Epoch 148/200\n",
      "15/15 [==============================] - 0s 3ms/step - loss: 0.1991 - accuracy: 0.9437 - val_loss: 0.3043 - val_accuracy: 0.9167\n",
      "Epoch 149/200\n",
      "15/15 [==============================] - 0s 3ms/step - loss: 0.1892 - accuracy: 0.9296 - val_loss: 0.1154 - val_accuracy: 0.9722\n",
      "Epoch 150/200\n",
      "15/15 [==============================] - 0s 3ms/step - loss: 0.1783 - accuracy: 0.9366 - val_loss: 0.1242 - val_accuracy: 0.9722\n",
      "Epoch 151/200\n",
      "15/15 [==============================] - 0s 2ms/step - loss: 0.1709 - accuracy: 0.9507 - val_loss: 0.1437 - val_accuracy: 0.9722\n",
      "Epoch 152/200\n",
      "15/15 [==============================] - 0s 2ms/step - loss: 0.1711 - accuracy: 0.9507 - val_loss: 0.1307 - val_accuracy: 0.9722\n",
      "Epoch 153/200\n",
      "15/15 [==============================] - 0s 2ms/step - loss: 0.1739 - accuracy: 0.9437 - val_loss: 0.2049 - val_accuracy: 0.9444\n",
      "Epoch 154/200\n",
      "15/15 [==============================] - 0s 2ms/step - loss: 0.1735 - accuracy: 0.9577 - val_loss: 0.0983 - val_accuracy: 0.9722\n",
      "Epoch 155/200\n",
      "15/15 [==============================] - 0s 2ms/step - loss: 0.1780 - accuracy: 0.9507 - val_loss: 0.1523 - val_accuracy: 0.9722\n",
      "Epoch 156/200\n",
      "15/15 [==============================] - 0s 2ms/step - loss: 0.1631 - accuracy: 0.9437 - val_loss: 0.1749 - val_accuracy: 0.9722\n",
      "Epoch 157/200\n",
      "15/15 [==============================] - 0s 2ms/step - loss: 0.1645 - accuracy: 0.9437 - val_loss: 0.1311 - val_accuracy: 0.9722\n",
      "Epoch 158/200\n",
      "15/15 [==============================] - 0s 3ms/step - loss: 0.1725 - accuracy: 0.9437 - val_loss: 0.1023 - val_accuracy: 0.9722\n",
      "Epoch 159/200\n",
      "15/15 [==============================] - 0s 2ms/step - loss: 0.1681 - accuracy: 0.9507 - val_loss: 0.1336 - val_accuracy: 0.9722\n",
      "Epoch 160/200\n",
      "15/15 [==============================] - 0s 2ms/step - loss: 0.1601 - accuracy: 0.9507 - val_loss: 0.1164 - val_accuracy: 0.9722\n",
      "Epoch 161/200\n",
      "15/15 [==============================] - 0s 2ms/step - loss: 0.1768 - accuracy: 0.9437 - val_loss: 0.2184 - val_accuracy: 0.9444\n",
      "Epoch 162/200\n",
      "15/15 [==============================] - 0s 2ms/step - loss: 0.1701 - accuracy: 0.9366 - val_loss: 0.1387 - val_accuracy: 0.9722\n",
      "Epoch 163/200\n",
      "15/15 [==============================] - 0s 3ms/step - loss: 0.1573 - accuracy: 0.9507 - val_loss: 0.1159 - val_accuracy: 0.9722\n",
      "Epoch 164/200\n",
      "15/15 [==============================] - 0s 2ms/step - loss: 0.1569 - accuracy: 0.9507 - val_loss: 0.1858 - val_accuracy: 0.9444\n",
      "Epoch 165/200\n",
      "15/15 [==============================] - 0s 2ms/step - loss: 0.1885 - accuracy: 0.9366 - val_loss: 0.1349 - val_accuracy: 0.9722\n",
      "Epoch 166/200\n",
      "15/15 [==============================] - 0s 2ms/step - loss: 0.1621 - accuracy: 0.9718 - val_loss: 0.0736 - val_accuracy: 0.9722\n",
      "Epoch 167/200\n",
      "15/15 [==============================] - 0s 3ms/step - loss: 0.1723 - accuracy: 0.9437 - val_loss: 0.1522 - val_accuracy: 0.9722\n",
      "Epoch 168/200\n",
      "15/15 [==============================] - 0s 2ms/step - loss: 0.1580 - accuracy: 0.9507 - val_loss: 0.1284 - val_accuracy: 0.9722\n",
      "Epoch 169/200\n",
      "15/15 [==============================] - 0s 2ms/step - loss: 0.1693 - accuracy: 0.9296 - val_loss: 0.1388 - val_accuracy: 0.9722\n",
      "Epoch 170/200\n",
      "15/15 [==============================] - 0s 2ms/step - loss: 0.2149 - accuracy: 0.9155 - val_loss: 0.0905 - val_accuracy: 0.9722\n",
      "Epoch 171/200\n"
     ]
    },
    {
     "name": "stdout",
     "output_type": "stream",
     "text": [
      "15/15 [==============================] - 0s 2ms/step - loss: 0.1811 - accuracy: 0.9155 - val_loss: 0.0806 - val_accuracy: 0.9722\n",
      "Epoch 172/200\n",
      "15/15 [==============================] - 0s 2ms/step - loss: 0.1565 - accuracy: 0.9648 - val_loss: 0.1583 - val_accuracy: 0.9722\n",
      "Epoch 173/200\n",
      "15/15 [==============================] - 0s 2ms/step - loss: 0.1581 - accuracy: 0.9577 - val_loss: 0.1240 - val_accuracy: 0.9722\n",
      "Epoch 174/200\n",
      "15/15 [==============================] - 0s 2ms/step - loss: 0.1473 - accuracy: 0.9648 - val_loss: 0.1430 - val_accuracy: 0.9722\n",
      "Epoch 175/200\n",
      "15/15 [==============================] - 0s 2ms/step - loss: 0.1841 - accuracy: 0.9155 - val_loss: 0.0510 - val_accuracy: 0.9722\n",
      "Epoch 176/200\n",
      "15/15 [==============================] - 0s 3ms/step - loss: 0.1528 - accuracy: 0.9507 - val_loss: 0.2668 - val_accuracy: 0.9444\n",
      "Epoch 177/200\n",
      "15/15 [==============================] - 0s 2ms/step - loss: 0.2011 - accuracy: 0.9085 - val_loss: 0.0864 - val_accuracy: 0.9722\n",
      "Epoch 178/200\n",
      "15/15 [==============================] - 0s 2ms/step - loss: 0.1841 - accuracy: 0.9437 - val_loss: 0.0645 - val_accuracy: 0.9722\n",
      "Epoch 179/200\n",
      "15/15 [==============================] - 0s 2ms/step - loss: 0.1823 - accuracy: 0.9296 - val_loss: 0.1457 - val_accuracy: 0.9444\n",
      "Epoch 180/200\n",
      "15/15 [==============================] - 0s 2ms/step - loss: 0.1845 - accuracy: 0.9437 - val_loss: 0.1686 - val_accuracy: 0.9444\n",
      "Epoch 181/200\n",
      "15/15 [==============================] - 0s 2ms/step - loss: 0.1590 - accuracy: 0.9296 - val_loss: 0.0626 - val_accuracy: 0.9722\n",
      "Epoch 182/200\n",
      "15/15 [==============================] - 0s 3ms/step - loss: 0.1415 - accuracy: 0.9648 - val_loss: 0.1406 - val_accuracy: 0.9722\n",
      "Epoch 183/200\n",
      "15/15 [==============================] - 0s 3ms/step - loss: 0.1457 - accuracy: 0.9648 - val_loss: 0.0785 - val_accuracy: 0.9722\n",
      "Epoch 184/200\n",
      "15/15 [==============================] - 0s 3ms/step - loss: 0.1475 - accuracy: 0.9577 - val_loss: 0.0818 - val_accuracy: 0.9722\n",
      "Epoch 185/200\n",
      "15/15 [==============================] - 0s 2ms/step - loss: 0.1488 - accuracy: 0.9577 - val_loss: 0.0879 - val_accuracy: 0.9722\n",
      "Epoch 186/200\n",
      "15/15 [==============================] - 0s 3ms/step - loss: 0.1474 - accuracy: 0.9577 - val_loss: 0.0736 - val_accuracy: 0.9722\n",
      "Epoch 187/200\n",
      "15/15 [==============================] - 0s 3ms/step - loss: 0.1504 - accuracy: 0.9648 - val_loss: 0.0959 - val_accuracy: 0.9722\n",
      "Epoch 188/200\n",
      "15/15 [==============================] - 0s 3ms/step - loss: 0.1604 - accuracy: 0.9437 - val_loss: 0.0672 - val_accuracy: 0.9722\n",
      "Epoch 189/200\n",
      "15/15 [==============================] - 0s 3ms/step - loss: 0.1390 - accuracy: 0.9648 - val_loss: 0.1389 - val_accuracy: 0.9722\n",
      "Epoch 190/200\n",
      "15/15 [==============================] - 0s 3ms/step - loss: 0.1470 - accuracy: 0.9577 - val_loss: 0.0993 - val_accuracy: 0.9722\n",
      "Epoch 191/200\n",
      "15/15 [==============================] - 0s 2ms/step - loss: 0.1641 - accuracy: 0.9437 - val_loss: 0.1118 - val_accuracy: 0.9722\n",
      "Epoch 192/200\n",
      "15/15 [==============================] - 0s 2ms/step - loss: 0.1604 - accuracy: 0.9225 - val_loss: 0.0431 - val_accuracy: 0.9722\n",
      "Epoch 193/200\n",
      "15/15 [==============================] - 0s 2ms/step - loss: 0.2225 - accuracy: 0.8944 - val_loss: 0.1404 - val_accuracy: 0.9444\n",
      "Epoch 194/200\n",
      "15/15 [==============================] - 0s 2ms/step - loss: 0.1984 - accuracy: 0.9366 - val_loss: 0.1997 - val_accuracy: 0.9444\n",
      "Epoch 195/200\n",
      "15/15 [==============================] - 0s 3ms/step - loss: 0.1515 - accuracy: 0.9437 - val_loss: 0.0661 - val_accuracy: 0.9722\n",
      "Epoch 196/200\n",
      "15/15 [==============================] - 0s 2ms/step - loss: 0.1381 - accuracy: 0.9577 - val_loss: 0.0920 - val_accuracy: 0.9722\n",
      "Epoch 197/200\n",
      "15/15 [==============================] - 0s 3ms/step - loss: 0.1595 - accuracy: 0.9437 - val_loss: 0.0595 - val_accuracy: 0.9722\n",
      "Epoch 198/200\n",
      "15/15 [==============================] - 0s 3ms/step - loss: 0.1749 - accuracy: 0.9437 - val_loss: 0.0971 - val_accuracy: 0.9722\n",
      "Epoch 199/200\n",
      "15/15 [==============================] - 0s 3ms/step - loss: 0.1774 - accuracy: 0.9155 - val_loss: 0.2271 - val_accuracy: 0.9444\n",
      "Epoch 200/200\n",
      "15/15 [==============================] - 0s 2ms/step - loss: 0.1592 - accuracy: 0.9437 - val_loss: 0.0482 - val_accuracy: 0.9722\n",
      "6/6 [==============================] - 0s 1ms/step - loss: 0.1464 - accuracy: 0.9270\n",
      "accuracy: 92.70%\n"
     ]
    }
   ],
   "source": [
    "numpy.random.seed(seed)\n",
    "\n",
    "# create model\n",
    "model = Sequential()\n",
    "model.add(Dense(7, input_dim=13, kernel_initializer= 'uniform' , activation= 'relu' ))\n",
    "model.add(Dense(3, kernel_initializer= 'uniform', activation= 'sigmoid' ))\n",
    "\n",
    "# Compile model\n",
    "model.compile(loss= 'categorical_crossentropy' , optimizer= 'adam' , metrics=[ 'accuracy' ])\n",
    "\n",
    "# Fit the model\n",
    "model.fit(X, dummy_y, validation_split=0.2, epochs=200, batch_size=10)\n",
    "\n",
    "# evaluate the model\n",
    "scores = model.evaluate(X, dummy_y)\n",
    "print(\"%s: %.2f%%\" % (model.metrics_names[1], scores[1]*100))"
   ]
  },
  {
   "cell_type": "markdown",
   "id": "126df4cf",
   "metadata": {},
   "source": [
    "**With 20% verification set, we can see the accuracy of 92.7%. And just to make sure it is not a result of any statistical fluke, we will run the cross-validaton model.**"
   ]
  },
  {
   "cell_type": "markdown",
   "id": "c4e3b60e",
   "metadata": {},
   "source": [
    "<div class=\"alert alert-block alert-info\">\n",
    "\n",
    "### Note : Working of NN in Keras\n",
    "\n",
    "**Dense class defines fully connected layers** \n",
    "- **Dense**(*No. of neurons on first hidden layer*, input_dim = No. of input features, kernel_initializer = generates weight/filter matrix, activation = type of activation funtion used)\n",
    "\n",
    "\n",
    "- **Dense**(*No. of neurons on next hidden layer OR output layer*, kernel_initializer, activation)\n",
    "\n",
    "\n",
    "- **Kernel_Intializer** creates a random matrix of weights (size = **dim. of 2nd layer BY (dim. of 1st layer + 1)**). Each column of the weight matrix makes dot product with the 1st layer. Then the activation funtion is applied on the dot product, which spits out a \"number\" each for each neuron in the second layer. This 2nd layer (hidden layer) is often called as a activation layer.\n",
    "\n",
    "\n",
    "- Now, thus obtained activation layer becomes first layer next time and the above process is repeated on this activation layer which result in another activation layer. This keeps on repeating (depending on the depth of the NN), and when this process ends the last \"**activation layer**\" is the output layer.\n",
    "\n",
    "\n",
    "- The dim. of the last layer depends on type of problem. For example, for binary classifcation and regression problem it is just 1. For multiclass classicication, it is the number of classes, for eg it is 3 in our case. All these process is often called as **Forward Propagation**.\n",
    "\n",
    "\n",
    "- The numbers spit out on output layer (i.e predicted values) might be different from actual values in training data (y true). A costfunction (i.e error) is calculated (we used **logarithmic loss** - same kind of loss in logrithmic regression) which is called as \"**Categorical_Crossentropy**\" by the Keras.\n",
    "\n",
    "\n",
    "- The error is then back propagated through the network, one layer at a time, and the weights matrix are updated according to the amount they contributed to the error. This is often called as \"**Back Propagation**\". One round of updating the network for the entire training dataset is called an epoch. \n",
    "\n",
    "\n",
    "- The overall objective is to minimize the cost-function, and different Gradient Descent Algorithms are used, for example we used '**adam**' for it is and efficient default algo.\n",
    "\n",
    "\n",
    "- Finally, we used \"**accuracy**\" as a metric in our case assuming balanced classification, and again the type of metric can be different in other cases.\n",
    "\n",
    "\n",
    "Also NOTE that each \"ingoing\" (1st layer what we called) layer gets its own weight/filter matrix.\n",
    "    \n",
    "</div>    "
   ]
  },
  {
   "cell_type": "markdown",
   "id": "31dd0b9d",
   "metadata": {},
   "source": [
    "### 1b) Using Manual k-Fold Cross Validation"
   ]
  },
  {
   "cell_type": "code",
   "execution_count": 15,
   "id": "76216f64",
   "metadata": {},
   "outputs": [
    {
     "name": "stderr",
     "output_type": "stream",
     "text": [
      "C:\\Users\\ukesh\\AppData\\Local\\Temp/ipykernel_14956/979038044.py:10: DeprecationWarning: KerasClassifier is deprecated, use Sci-Keras (https://github.com/adriangb/scikeras) instead.\n",
      "  estimator = KerasClassifier(build_fn=baseline_model, epochs=200, batch_size=5, verbose=0)\n"
     ]
    },
    {
     "name": "stdout",
     "output_type": "stream",
     "text": [
      "Accuracy: 92.68% (7.90%)\n"
     ]
    }
   ],
   "source": [
    "numpy.random.seed(seed)\n",
    "\n",
    "def baseline_model():\n",
    "    # create model\n",
    "    model = Sequential()\n",
    "    model.add(Dense(7, input_dim=13, kernel_initializer= 'uniform' , activation= 'relu' ))\n",
    "    model.add(Dense(3, kernel_initializer= 'uniform', activation= 'sigmoid' ))\n",
    "    # Compile model\n",
    "    model.compile(loss= 'categorical_crossentropy' , optimizer= 'adam' , metrics=[ 'accuracy' ])\n",
    "    return model\n",
    "\n",
    "estimator = KerasClassifier(build_fn=baseline_model, epochs=200, batch_size=5, verbose=0)\n",
    "kfold = KFold(n_splits=10, shuffle=True, random_state=seed)\n",
    "\n",
    "results = cross_val_score(estimator, X, dummy_y, cv=kfold)\n",
    "print(\"Accuracy: %.2f%% (%.2f%%)\" % (results.mean()*100, results.std()*100))"
   ]
  },
  {
   "cell_type": "markdown",
   "id": "29cde3bf",
   "metadata": {},
   "source": [
    "**We can see the accuracy is 92.68 % with just one-hidden layer with 7 neurons. This kind of supports the accuracy result we got in (1a)**"
   ]
  },
  {
   "cell_type": "markdown",
   "id": "5c4898c7",
   "metadata": {},
   "source": [
    "**Let's update the model with two-hidden layers, with 13 and 7 neurons respectively.**"
   ]
  },
  {
   "cell_type": "code",
   "execution_count": 56,
   "id": "835c2aa9",
   "metadata": {},
   "outputs": [
    {
     "name": "stderr",
     "output_type": "stream",
     "text": [
      "C:\\Users\\ukesh\\AppData\\Local\\Temp/ipykernel_13208/692654836.py:11: DeprecationWarning: KerasClassifier is deprecated, use Sci-Keras (https://github.com/adriangb/scikeras) instead.\n",
      "  estimator = KerasClassifier(build_fn=baseline_model, epochs=200, batch_size=5, verbose=0)\n"
     ]
    },
    {
     "name": "stdout",
     "output_type": "stream",
     "text": [
      "Accuracy: 93.76% (5.98%)\n"
     ]
    }
   ],
   "source": [
    "numpy.random.seed(seed)\n",
    "\n",
    "def baseline_model():\n",
    "    # create model\n",
    "    model = Sequential()\n",
    "    model.add(Dense(13, input_dim=13, kernel_initializer= 'uniform' , activation= 'relu' ))\n",
    "    model.add(Dense(7, kernel_initializer= 'uniform' , activation= 'relu' ))\n",
    "    model.add(Dense(3, kernel_initializer= 'uniform', activation= 'sigmoid' ))\n",
    "    # Compile model\n",
    "    model.compile(loss= 'categorical_crossentropy' , optimizer= 'adam' , metrics=[ 'accuracy' ])\n",
    "    return model\n",
    "\n",
    "estimator = KerasClassifier(build_fn=baseline_model, epochs=200, batch_size=5, verbose=0)\n",
    "kfold = KFold(n_splits=10, shuffle=True, random_state=seed)\n",
    "\n",
    "results = cross_val_score(estimator, X, dummy_y, cv=kfold)\n",
    "print(\"Accuracy: %.2f%% (%.2f%%)\" % (results.mean()*100, results.std()*100))"
   ]
  },
  {
   "cell_type": "markdown",
   "id": "253c12cc",
   "metadata": {},
   "source": [
    "**It improvedd the accuracy by about 1% which is good. Also note that we have used two hidden-layers here.**"
   ]
  },
  {
   "cell_type": "markdown",
   "id": "902f09bb",
   "metadata": {},
   "source": [
    "**Let's standardize the input features, and rerun the above model. Standardization is often benficial in NN. We will use pipeline to achieve this.**"
   ]
  },
  {
   "cell_type": "markdown",
   "id": "e1f497a5",
   "metadata": {},
   "source": [
    "## 2) Apply Data Preparation (Stardardization) and Build a Model"
   ]
  },
  {
   "cell_type": "code",
   "execution_count": 17,
   "id": "5f8021b6",
   "metadata": {},
   "outputs": [
    {
     "name": "stderr",
     "output_type": "stream",
     "text": [
      "C:\\Users\\ukesh\\AppData\\Local\\Temp/ipykernel_14956/328066603.py:15: DeprecationWarning: KerasClassifier is deprecated, use Sci-Keras (https://github.com/adriangb/scikeras) instead.\n",
      "  estimators.append(( 'mlp' , KerasClassifier(build_fn=standardized_model, epochs=200, batch_size=5, verbose=0)))\n"
     ]
    },
    {
     "name": "stdout",
     "output_type": "stream",
     "text": [
      "Standardized: 97.12% (4.62%)\n"
     ]
    }
   ],
   "source": [
    "numpy.random.seed(seed)\n",
    "\n",
    "def standardized_model():\n",
    "    # create model\n",
    "    model = Sequential()\n",
    "    model.add(Dense(13, input_dim=13, kernel_initializer= 'uniform' , activation= 'relu' ))\n",
    "    model.add(Dense(7, kernel_initializer= 'uniform' , activation= 'relu' ))\n",
    "    model.add(Dense(3, kernel_initializer= 'uniform', activation= 'sigmoid' ))\n",
    "    # Compile model\n",
    "    model.compile(loss= 'categorical_crossentropy' , optimizer= 'adam' , metrics=[ 'accuracy' ])\n",
    "    return model\n",
    "\n",
    "# evaluate baseline model with standardized dataset\n",
    "numpy.random.seed(seed)\n",
    "estimators = []\n",
    "estimators.append(( 'standardize' , StandardScaler()))\n",
    "estimators.append(( 'mlp' , KerasClassifier(build_fn=standardized_model, epochs=200, batch_size=5, verbose=0)))\n",
    "pipeline = Pipeline(estimators)\n",
    "\n",
    "kfold = KFold(n_splits=10, shuffle=True, random_state=seed)\n",
    "results = cross_val_score(pipeline, X, dummy_y, cv=kfold)\n",
    "print(\"Standardized: %.2f%% (%.2f%%)\" % (results.mean()*100, results.std()*100))"
   ]
  },
  {
   "cell_type": "markdown",
   "id": "40b768c9",
   "metadata": {},
   "source": [
    "**With the standarization, the accuracy is improved to 97.12 %. Note that we might be able to improve this number by choosing deeper network with more neurons, this might not be always helpful though.**\n",
    "\n",
    "**Also, there's a chance of improving the model by tunning some hyperparameters using GridSearchCV. Let's perform GridSearch**"
   ]
  },
  {
   "cell_type": "markdown",
   "id": "77e3d2e5",
   "metadata": {},
   "source": [
    "## 3) Grid Search Deep Learning Model Parameters"
   ]
  },
  {
   "cell_type": "code",
   "execution_count": 12,
   "id": "7f0d15d9",
   "metadata": {},
   "outputs": [
    {
     "name": "stderr",
     "output_type": "stream",
     "text": [
      "C:\\Users\\ukesh\\AppData\\Local\\Temp/ipykernel_11564/1076632290.py:24: DeprecationWarning: KerasClassifier is deprecated, use Sci-Keras (https://github.com/adriangb/scikeras) instead.\n",
      "  model = KerasClassifier(build_fn=create_model, verbose=0)\n"
     ]
    },
    {
     "name": "stdout",
     "output_type": "stream",
     "text": [
      "WARNING:tensorflow:5 out of the last 13 calls to <function Model.make_test_function.<locals>.test_function at 0x00000184B4EAF670> triggered tf.function retracing. Tracing is expensive and the excessive number of tracings could be due to (1) creating @tf.function repeatedly in a loop, (2) passing tensors with different shapes, (3) passing Python objects instead of tensors. For (1), please define your @tf.function outside of the loop. For (2), @tf.function has experimental_relax_shapes=True option that relaxes argument shapes that can avoid unnecessary retracing. For (3), please refer to https://www.tensorflow.org/guide/function#controlling_retracing and https://www.tensorflow.org/api_docs/python/tf/function for  more details.\n",
      "WARNING:tensorflow:5 out of the last 11 calls to <function Model.make_test_function.<locals>.test_function at 0x00000184B3CE75E0> triggered tf.function retracing. Tracing is expensive and the excessive number of tracings could be due to (1) creating @tf.function repeatedly in a loop, (2) passing tensors with different shapes, (3) passing Python objects instead of tensors. For (1), please define your @tf.function outside of the loop. For (2), @tf.function has experimental_relax_shapes=True option that relaxes argument shapes that can avoid unnecessary retracing. For (3), please refer to https://www.tensorflow.org/guide/function#controlling_retracing and https://www.tensorflow.org/api_docs/python/tf/function for  more details.\n",
      "Best: 0.933016 using {'batch_size': 5, 'epochs': 200, 'init': 'uniform', 'optimizer': 'rmsprop'}\n",
      "0.464603 (0.392504) with: {'batch_size': 5, 'epochs': 50, 'init': 'glorot_uniform', 'optimizer': 'rmsprop'}\n",
      "0.410317 (0.348318) with: {'batch_size': 5, 'epochs': 50, 'init': 'glorot_uniform', 'optimizer': 'adam'}\n",
      "0.520159 (0.306763) with: {'batch_size': 5, 'epochs': 50, 'init': 'normal', 'optimizer': 'rmsprop'}\n",
      "0.577460 (0.397774) with: {'batch_size': 5, 'epochs': 50, 'init': 'normal', 'optimizer': 'adam'}\n",
      "0.464603 (0.388552) with: {'batch_size': 5, 'epochs': 50, 'init': 'uniform', 'optimizer': 'rmsprop'}\n",
      "0.453492 (0.342108) with: {'batch_size': 5, 'epochs': 50, 'init': 'uniform', 'optimizer': 'adam'}\n",
      "0.444921 (0.358705) with: {'batch_size': 5, 'epochs': 100, 'init': 'glorot_uniform', 'optimizer': 'rmsprop'}\n",
      "0.437143 (0.361559) with: {'batch_size': 5, 'epochs': 100, 'init': 'glorot_uniform', 'optimizer': 'adam'}\n",
      "0.527143 (0.408445) with: {'batch_size': 5, 'epochs': 100, 'init': 'normal', 'optimizer': 'rmsprop'}\n",
      "0.453651 (0.375993) with: {'batch_size': 5, 'epochs': 100, 'init': 'normal', 'optimizer': 'adam'}\n",
      "0.274762 (0.260174) with: {'batch_size': 5, 'epochs': 100, 'init': 'uniform', 'optimizer': 'rmsprop'}\n",
      "0.694286 (0.355171) with: {'batch_size': 5, 'epochs': 100, 'init': 'uniform', 'optimizer': 'adam'}\n",
      "0.832222 (0.066945) with: {'batch_size': 5, 'epochs': 200, 'init': 'glorot_uniform', 'optimizer': 'rmsprop'}\n",
      "0.566984 (0.430222) with: {'batch_size': 5, 'epochs': 200, 'init': 'glorot_uniform', 'optimizer': 'adam'}\n",
      "0.808254 (0.170584) with: {'batch_size': 5, 'epochs': 200, 'init': 'normal', 'optimizer': 'rmsprop'}\n",
      "0.776190 (0.220887) with: {'batch_size': 5, 'epochs': 200, 'init': 'normal', 'optimizer': 'adam'}\n",
      "0.933016 (0.041278) with: {'batch_size': 5, 'epochs': 200, 'init': 'uniform', 'optimizer': 'rmsprop'}\n",
      "0.693651 (0.347456) with: {'batch_size': 5, 'epochs': 200, 'init': 'uniform', 'optimizer': 'adam'}\n",
      "0.533333 (0.328118) with: {'batch_size': 10, 'epochs': 50, 'init': 'glorot_uniform', 'optimizer': 'rmsprop'}\n",
      "0.497143 (0.280600) with: {'batch_size': 10, 'epochs': 50, 'init': 'glorot_uniform', 'optimizer': 'adam'}\n",
      "0.486825 (0.311136) with: {'batch_size': 10, 'epochs': 50, 'init': 'normal', 'optimizer': 'rmsprop'}\n",
      "0.288889 (0.354251) with: {'batch_size': 10, 'epochs': 50, 'init': 'normal', 'optimizer': 'adam'}\n",
      "0.459048 (0.382599) with: {'batch_size': 10, 'epochs': 50, 'init': 'uniform', 'optimizer': 'rmsprop'}\n",
      "0.409048 (0.336288) with: {'batch_size': 10, 'epochs': 50, 'init': 'uniform', 'optimizer': 'adam'}\n",
      "0.713333 (0.157472) with: {'batch_size': 10, 'epochs': 100, 'init': 'glorot_uniform', 'optimizer': 'rmsprop'}\n",
      "0.381270 (0.323483) with: {'batch_size': 10, 'epochs': 100, 'init': 'glorot_uniform', 'optimizer': 'adam'}\n",
      "0.649048 (0.337237) with: {'batch_size': 10, 'epochs': 100, 'init': 'normal', 'optimizer': 'rmsprop'}\n",
      "0.694762 (0.156759) with: {'batch_size': 10, 'epochs': 100, 'init': 'normal', 'optimizer': 'adam'}\n",
      "0.464286 (0.315090) with: {'batch_size': 10, 'epochs': 100, 'init': 'uniform', 'optimizer': 'rmsprop'}\n",
      "0.453492 (0.320206) with: {'batch_size': 10, 'epochs': 100, 'init': 'uniform', 'optimizer': 'adam'}\n",
      "0.653492 (0.348665) with: {'batch_size': 10, 'epochs': 200, 'init': 'glorot_uniform', 'optimizer': 'rmsprop'}\n",
      "0.275714 (0.339856) with: {'batch_size': 10, 'epochs': 200, 'init': 'glorot_uniform', 'optimizer': 'adam'}\n",
      "0.910476 (0.056445) with: {'batch_size': 10, 'epochs': 200, 'init': 'normal', 'optimizer': 'rmsprop'}\n",
      "0.661429 (0.160179) with: {'batch_size': 10, 'epochs': 200, 'init': 'normal', 'optimizer': 'adam'}\n",
      "0.674444 (0.109725) with: {'batch_size': 10, 'epochs': 200, 'init': 'uniform', 'optimizer': 'rmsprop'}\n",
      "0.655079 (0.334164) with: {'batch_size': 10, 'epochs': 200, 'init': 'uniform', 'optimizer': 'adam'}\n",
      "0.462381 (0.287124) with: {'batch_size': 20, 'epochs': 50, 'init': 'glorot_uniform', 'optimizer': 'rmsprop'}\n",
      "0.453651 (0.291887) with: {'batch_size': 20, 'epochs': 50, 'init': 'glorot_uniform', 'optimizer': 'adam'}\n",
      "0.264603 (0.324740) with: {'batch_size': 20, 'epochs': 50, 'init': 'normal', 'optimizer': 'rmsprop'}\n",
      "0.442222 (0.324258) with: {'batch_size': 20, 'epochs': 50, 'init': 'normal', 'optimizer': 'adam'}\n",
      "0.470159 (0.393554) with: {'batch_size': 20, 'epochs': 50, 'init': 'uniform', 'optimizer': 'rmsprop'}\n",
      "0.497937 (0.288781) with: {'batch_size': 20, 'epochs': 50, 'init': 'uniform', 'optimizer': 'adam'}\n",
      "0.519524 (0.358063) with: {'batch_size': 20, 'epochs': 100, 'init': 'glorot_uniform', 'optimizer': 'rmsprop'}\n",
      "0.459048 (0.291522) with: {'batch_size': 20, 'epochs': 100, 'init': 'glorot_uniform', 'optimizer': 'adam'}\n",
      "0.531270 (0.312321) with: {'batch_size': 20, 'epochs': 100, 'init': 'normal', 'optimizer': 'rmsprop'}\n",
      "0.459365 (0.334258) with: {'batch_size': 20, 'epochs': 100, 'init': 'normal', 'optimizer': 'adam'}\n",
      "0.331270 (0.311790) with: {'batch_size': 20, 'epochs': 100, 'init': 'uniform', 'optimizer': 'rmsprop'}\n",
      "0.493968 (0.406771) with: {'batch_size': 20, 'epochs': 100, 'init': 'uniform', 'optimizer': 'adam'}\n",
      "0.603968 (0.302884) with: {'batch_size': 20, 'epochs': 200, 'init': 'glorot_uniform', 'optimizer': 'rmsprop'}\n",
      "0.627619 (0.341224) with: {'batch_size': 20, 'epochs': 200, 'init': 'glorot_uniform', 'optimizer': 'adam'}\n",
      "0.605238 (0.332269) with: {'batch_size': 20, 'epochs': 200, 'init': 'normal', 'optimizer': 'rmsprop'}\n",
      "0.385714 (0.303268) with: {'batch_size': 20, 'epochs': 200, 'init': 'normal', 'optimizer': 'adam'}\n",
      "0.575714 (0.336392) with: {'batch_size': 20, 'epochs': 200, 'init': 'uniform', 'optimizer': 'rmsprop'}\n",
      "0.616190 (0.339970) with: {'batch_size': 20, 'epochs': 200, 'init': 'uniform', 'optimizer': 'adam'}\n"
     ]
    }
   ],
   "source": [
    "# Function to create model, required for KerasClassifier\n",
    "def create_model(optimizer= 'rmsprop' , init= 'glorot_uniform' ):\n",
    "    # create model\n",
    "    model = Sequential()\n",
    "    model.add(Dense(13, input_dim=13, kernel_initializer=init, activation= 'relu' ))\n",
    "    model.add(Dense(7, kernel_initializer=init, activation= 'relu' ))\n",
    "    model.add(Dense(3, kernel_initializer=init, activation= 'sigmoid' ))\n",
    "    # Compile model\n",
    "    model.compile(loss= 'categorical_crossentropy' , optimizer=optimizer, metrics=[ 'accuracy' ])\n",
    "    return model\n",
    "\n",
    "# fix random seed for reproducibility\n",
    "seed = 7\n",
    "numpy.random.seed(seed)\n",
    "\n",
    "# create model\n",
    "model = KerasClassifier(build_fn=create_model, verbose=0)\n",
    "# grid search epochs, batch size and optimizer\n",
    "optimizers = [ 'rmsprop' , 'adam' ]\n",
    "init = [ 'glorot_uniform' , 'normal' , 'uniform' ]\n",
    "epochs = numpy.array([50, 100, 200])\n",
    "batches = numpy.array([5, 10, 20])\n",
    "param_grid = dict(optimizer=optimizers, epochs=epochs, batch_size=batches, init=init)\n",
    "grid = GridSearchCV(estimator=model, param_grid=param_grid)\n",
    "grid_result = grid.fit(X, dummy_y)\n",
    "\n",
    "# summarize results\n",
    "print(\"Best: %f using %s\" % (grid_result.best_score_, grid_result.best_params_))\n",
    "\n",
    "means = grid_result.cv_results_['mean_test_score']\n",
    "stds = grid_result.cv_results_['std_test_score']\n",
    "params = grid_result.cv_results_['params']\n",
    "for mean, stdev, param in zip(means, stds, params):\n",
    "    print(\"%f (%f) with: %r\" % (mean, stdev, param))"
   ]
  },
  {
   "cell_type": "markdown",
   "id": "6e88388e",
   "metadata": {},
   "source": [
    "**The best we got here is 93.3%, extending the hyperparameter tunning to other parameters might help improve the result. For example we can check different types of activation function.**"
   ]
  },
  {
   "cell_type": "markdown",
   "id": "a39a830a",
   "metadata": {},
   "source": [
    "**There might be overfitting and underfitting problems in our models. We can see this by visualizing the Model Training History**"
   ]
  },
  {
   "cell_type": "markdown",
   "id": "3a86464d",
   "metadata": {},
   "source": [
    "## 4) Visualize Model Training History"
   ]
  },
  {
   "cell_type": "code",
   "execution_count": 19,
   "id": "15ad3c65",
   "metadata": {},
   "outputs": [
    {
     "name": "stdout",
     "output_type": "stream",
     "text": [
      "dict_keys(['loss', 'accuracy', 'val_loss', 'val_accuracy'])\n"
     ]
    },
    {
     "data": {
      "image/png": "[encoded data removed]",
      "text/plain": [
       "<Figure size 432x288 with 1 Axes>"
      ]
     },
     "metadata": {
      "needs_background": "light"
     },
     "output_type": "display_data"
    },
    {
     "data": {
      "image/png": "[encoded data removed]",
      "text/plain": [
       "<Figure size 432x288 with 1 Axes>"
      ]
     },
     "metadata": {
      "needs_background": "light"
     },
     "output_type": "display_data"
    }
   ],
   "source": [
    "# Visualize training history\n",
    "\n",
    "# fix random seed for reproducibility\n",
    "seed = 7\n",
    "numpy.random.seed(seed)\n",
    "\n",
    "# prepare the model\n",
    "#scaler = StandardScaler().fit(X)\n",
    "#rescaledX = scaler.transform(X)\n",
    "\n",
    "# create model\n",
    "model = Sequential()\n",
    "model.add(Dense(13, input_dim=13, kernel_initializer= 'uniform' , activation= 'relu' ))\n",
    "model.add(Dense(8, kernel_initializer= 'uniform' , activation= 'relu' ))\n",
    "model.add(Dense(3, kernel_initializer= 'uniform' , activation= 'sigmoid' ))\n",
    "\n",
    "# Compile model\n",
    "model.compile(loss= 'categorical_crossentropy' , optimizer= 'rmsprop' , metrics=[ 'accuracy' ])\n",
    "# Fit the model\n",
    "history = model.fit(X, dummy_y, validation_split=0.2, epochs=400, batch_size=5, verbose=0)\n",
    "\n",
    "# list all data in history\n",
    "print(history.history.keys())\n",
    "\n",
    "# summarize history for accuracy\n",
    "plt.plot(history.history[ 'accuracy' ])\n",
    "plt.plot(history.history[ 'val_accuracy' ])\n",
    "plt.title( 'model accuracy' )\n",
    "plt.ylabel( 'accuracy' )\n",
    "plt.xlabel( 'epoch' )\n",
    "plt.legend([ 'train' , 'test' ], loc= 'upper left' )\n",
    "plt.show()\n",
    "\n",
    "# summarize history for loss\n",
    "plt.plot(history.history[ 'loss' ])\n",
    "plt.plot(history.history[ 'val_loss' ])\n",
    "plt.title( 'model loss' )\n",
    "plt.ylabel( 'loss' )\n",
    "plt.xlabel( 'epoch' )\n",
    "plt.legend([ 'train' , 'test'], loc= 'upper left' )\n",
    "plt.show()\n"
   ]
  },
  {
   "cell_type": "markdown",
   "id": "cb378c1b",
   "metadata": {},
   "source": [
    "**With 20% validation dataset, there's no overfitting. With 30% or more validation data, overfitting can be observed. One of a simple approach to deal with overfitting is to increase the number of training dataset (which we did) as mentioned below**"
   ]
  },
  {
   "cell_type": "markdown",
   "id": "ff50fa04",
   "metadata": {},
   "source": [
    "<div class=\"alert alert-block alert-info\">\n",
    "    \n",
    "**Dealing with Overfitting**: \n",
    "- **Sometime Increasing the number of training datasets can help overcome overfitting.** \n",
    "- **Data augmentation like rotating/flipping/zooming in out the image can help**\n",
    "- **Dropout, L1, L2 regularization can be helpful as well**\n",
    "- **A simple model structure with fewer layers and neurons also can reduce overfitting problem**\n",
    "    \n",
    "</div>"
   ]
  },
  {
   "cell_type": "markdown",
   "id": "0c74da67",
   "metadata": {},
   "source": [
    "## 5) Using dropout regularization (to reduce overfitting)"
   ]
  },
  {
   "cell_type": "markdown",
   "id": "b3d7f413",
   "metadata": {},
   "source": [
    "### 5a) Using dropout just on the visible layer"
   ]
  },
  {
   "cell_type": "code",
   "execution_count": 43,
   "id": "24775425",
   "metadata": {},
   "outputs": [
    {
     "name": "stderr",
     "output_type": "stream",
     "text": [
      "C:\\Users\\ukesh\\AppData\\Local\\Temp/ipykernel_11564/766110018.py:16: DeprecationWarning: KerasClassifier is deprecated, use Sci-Keras (https://github.com/adriangb/scikeras) instead.\n",
      "  estimators.append(( 'mlp' , KerasClassifier(build_fn=baseline_model, epochs=300, batch_size=16, verbose=0)))\n"
     ]
    },
    {
     "name": "stdout",
     "output_type": "stream",
     "text": [
      "Visible: 98.27% (2.65%)\n"
     ]
    }
   ],
   "source": [
    "def dropoutV_model():\n",
    "    # create model\n",
    "    model = Sequential()\n",
    "    model.add(Dropout(0.2, input_shape = (13,)))\n",
    "    model.add(Dense(13, kernel_initializer= 'normal' , activation= 'relu', kernel_constraint=maxnorm(3)))\n",
    "    model.add(Dense(7, kernel_initializer= 'normal' , activation= 'relu', kernel_constraint=maxnorm(3)))\n",
    "    model.add(Dense(3, kernel_initializer= 'uniform', activation= 'sigmoid' ))\n",
    "    # Compile model\n",
    "    model.compile(loss= 'categorical_crossentropy' , optimizer= 'adam' , metrics=[ 'accuracy' ])\n",
    "    return model\n",
    "\n",
    "\n",
    "numpy.random.seed(seed)\n",
    "estimators = []\n",
    "estimators.append(( 'standardize' , StandardScaler()))\n",
    "estimators.append(( 'mlp' , KerasClassifier(build_fn=dropoutV_model, epochs=300, batch_size=16, verbose=0)))\n",
    "pipeline = Pipeline(estimators)\n",
    "kfold = KFold(n_splits=10, shuffle=True, random_state=seed)\n",
    "results = cross_val_score(pipeline, X, dummy_y, cv=kfold)\n",
    "\n",
    "print(\"Visible: %.2f%% (%.2f%%)\" % (results.mean()*100, results.std()*100))\n",
    "\n",
    "\n"
   ]
  },
  {
   "cell_type": "markdown",
   "id": "f1e4666b",
   "metadata": {},
   "source": [
    "**Here, we applied a Dropout layer between the input and the first hidden layer. The dropout rate is chosen to 20%, ie one-in-five inputs will be randomly excluded from each update cycle. Additionally, we imposed a constraint on weights of each hidden layer such that the maximum norm of the weights does not exceed a value of 3 using kernel_constraint argument.**\n",
    "\n",
    "**With this we can see the upliftment in the performance of the model to 98.27%**\n",
    "\n",
    "**Also, let's see the effect of the applicaton of Dropout layers on the Hidden Layers**"
   ]
  },
  {
   "cell_type": "markdown",
   "id": "48ea91e3",
   "metadata": {},
   "source": [
    "### 5b) Using Dropout on Hidden layers"
   ]
  },
  {
   "cell_type": "code",
   "execution_count": 44,
   "id": "7aff8b6f",
   "metadata": {},
   "outputs": [
    {
     "name": "stderr",
     "output_type": "stream",
     "text": [
      "C:\\Users\\ukesh\\AppData\\Local\\Temp/ipykernel_11564/3286795883.py:18: DeprecationWarning: KerasClassifier is deprecated, use Sci-Keras (https://github.com/adriangb/scikeras) instead.\n",
      "  estimators.append(( 'mlp' , KerasClassifier(build_fn=baseline_model, epochs=300, batch_size=16, verbose=0)))\n"
     ]
    },
    {
     "name": "stdout",
     "output_type": "stream",
     "text": [
      "Visible: 97.12% (4.62%)\n"
     ]
    }
   ],
   "source": [
    "def dropoutH_model():\n",
    "    # create model\n",
    "    model = Sequential()\n",
    "    model.add(Dense(13, input_dim = 13, kernel_initializer= 'normal' , activation= 'relu', kernel_constraint=maxnorm(3)))\n",
    "    model.add(Dropout(0.2))\n",
    "    model.add(Dense(7, kernel_initializer= 'normal' , activation= 'relu', kernel_constraint=maxnorm(3)))\n",
    "    model.add(Dropout(0.2))\n",
    "    model.add(Dense(3, kernel_initializer= 'uniform', activation= 'sigmoid' ))\n",
    "    # Compile model\n",
    "    #sgd = SGD(learning_rate=0.1, momentum=0.9, decay=0.0, nesterov=False)\n",
    "    model.compile(loss= 'categorical_crossentropy' , optimizer= 'adam' , metrics=[ 'accuracy' ])\n",
    "    return model\n",
    "\n",
    "\n",
    "numpy.random.seed(seed)\n",
    "estimators = []\n",
    "estimators.append(( 'standardize' , StandardScaler()))\n",
    "estimators.append(( 'mlp' , KerasClassifier(build_fn=dropoutH_model, epochs=300, batch_size=16, verbose=0)))\n",
    "pipeline = Pipeline(estimators)\n",
    "kfold = KFold(n_splits=10, shuffle=True, random_state=seed)\n",
    "results = cross_val_score(pipeline, X, dummy_y, cv=kfold)\n",
    "\n",
    "print(\"Visible: %.2f%% (%.2f%%)\" % (results.mean()*100, results.std()*100))\n",
    "\n"
   ]
  },
  {
   "cell_type": "markdown",
   "id": "06efeca2",
   "metadata": {},
   "source": [
    "**With the application of Dropout layers on the Hidden Layers, the accuracy is now 97.12%. Apparently, Dropout layers applied on the visible or input layers gives a better result.**\n",
    "\n",
    "**There's still many stuffs we can experiment with, like expermenting with network size, learning rate, decay rate etc. But since our result are getting better with the Dropouts, let's finalize our model**"
   ]
  },
  {
   "cell_type": "markdown",
   "id": "9f3492f7",
   "metadata": {},
   "source": [
    "## 6) Finalized Model"
   ]
  },
  {
   "cell_type": "code",
   "execution_count": 44,
   "id": "2caf5c3c",
   "metadata": {},
   "outputs": [
    {
     "name": "stdout",
     "output_type": "stream",
     "text": [
      "1/1 [==============================] - 0s 29ms/step - loss: 0.0022 - accuracy: 1.0000\n",
      "accuracy: 100.00%\n",
      "[[4.49898689e-05 1.20431751e-01 9.97819543e-01]\n",
      " [9.91877079e-01 1.14453405e-01 5.99566102e-03]\n",
      " [9.11097450e-05 1.13079488e-01 9.97198582e-01]\n",
      " [8.34458933e-06 8.74220431e-02 9.99251366e-01]\n",
      " [2.16665566e-02 9.93224859e-01 1.60890520e-02]\n",
      " [7.74890184e-04 1.58090621e-01 9.89820957e-01]\n",
      " [3.02744508e-02 9.89122748e-01 2.39323974e-02]\n",
      " [9.95582104e-01 1.25795692e-01 1.65176392e-03]\n",
      " [3.55369747e-02 9.95523274e-01 2.81870365e-03]\n",
      " [8.12351704e-04 4.31130230e-01 9.58960831e-01]\n",
      " [9.99292374e-01 5.32366931e-02 3.13758850e-04]\n",
      " [7.15221322e-05 9.99998987e-01 4.48488208e-06]\n",
      " [6.61700964e-04 1.27001822e-01 9.92133856e-01]\n",
      " [9.84373689e-03 9.98926520e-01 1.83087587e-03]\n",
      " [3.43317986e-02 9.97435570e-01 9.32246447e-04]\n",
      " [7.20754266e-03 9.98324275e-01 5.54794073e-03]\n",
      " [3.65656316e-02 9.98041272e-01 4.18335199e-04]\n",
      " [6.33031130e-04 1.47153705e-01 9.91344333e-01]]\n"
     ]
    }
   ],
   "source": [
    "# split into 90% for train and 10% for test\n",
    "X_train, X_test, y_train, y_test = train_test_split(X, dummy_y, test_size=0.1, random_state=seed)\n",
    "\n",
    "# Standardizing test train Xs\n",
    "scaler = StandardScaler().fit(X_train)\n",
    "rescaledX_train = scaler.transform(X_train)\n",
    "rescaledX_test = scaler.transform(X_test)\n",
    "\n",
    "def baseline_model():\n",
    "    # create model\n",
    "    model = Sequential()\n",
    "    model.add(Dropout(0.2, input_shape = (13,)))\n",
    "    model.add(Dense(13, kernel_initializer= 'normal' , activation= 'relu', kernel_constraint=maxnorm(3)))\n",
    "    model.add(Dense(7, kernel_initializer= 'normal' , activation= 'relu', kernel_constraint=maxnorm(3)))\n",
    "    model.add(Dense(3, kernel_initializer= 'uniform', activation= 'sigmoid' ))\n",
    "    # Compile model\n",
    "    model.compile(loss= 'categorical_crossentropy' , optimizer= 'adam' , metrics=[ 'accuracy' ])\n",
    "    return model\n",
    "\n",
    "numpy.random.seed(seed)\n",
    "\n",
    "# Fit the model\n",
    "model = baseline_model()\n",
    "model.fit(rescaledX_train, y_train, validation_data=(rescaledX_test,y_test), epochs=300, batch_size=10, verbose=0)\n",
    "\n",
    "# evaluate the model\n",
    "scores = model.evaluate(rescaledX_test, y_test)\n",
    "print(\"%s: %.2f%%\" % (model.metrics_names[1], scores[1]*100))\n",
    "\n",
    "# Predict\n",
    "yhat = model.predict(rescaledX_test)\n",
    "print(yhat)"
   ]
  },
  {
   "cell_type": "markdown",
   "id": "28b5aa99",
   "metadata": {},
   "source": [
    "**We can see 100% accuracy here, and the predicted values (probabilites values) are also printed. Rounding the yhat values might make more sense (or choosing a threshold values like 0.5).**"
   ]
  },
  {
   "cell_type": "code",
   "execution_count": 45,
   "id": "81b34fef",
   "metadata": {},
   "outputs": [
    {
     "name": "stdout",
     "output_type": "stream",
     "text": [
      "y predicted: \n",
      "\n",
      " [[0. 0. 1.]\n",
      " [1. 0. 0.]\n",
      " [0. 0. 1.]\n",
      " [0. 0. 1.]\n",
      " [0. 1. 0.]\n",
      " [0. 0. 1.]\n",
      " [0. 1. 0.]\n",
      " [1. 0. 0.]\n",
      " [0. 1. 0.]\n",
      " [0. 0. 1.]\n",
      " [1. 0. 0.]\n",
      " [0. 1. 0.]\n",
      " [0. 0. 1.]\n",
      " [0. 1. 0.]\n",
      " [0. 1. 0.]\n",
      " [0. 1. 0.]\n",
      " [0. 1. 0.]\n",
      " [0. 0. 1.]] \n",
      "\n",
      "\n",
      "y test: \n",
      "\n",
      " [[0. 0. 1.]\n",
      " [1. 0. 0.]\n",
      " [0. 0. 1.]\n",
      " [0. 0. 1.]\n",
      " [0. 1. 0.]\n",
      " [0. 0. 1.]\n",
      " [0. 1. 0.]\n",
      " [1. 0. 0.]\n",
      " [0. 1. 0.]\n",
      " [0. 0. 1.]\n",
      " [1. 0. 0.]\n",
      " [0. 1. 0.]\n",
      " [0. 0. 1.]\n",
      " [0. 1. 0.]\n",
      " [0. 1. 0.]\n",
      " [0. 1. 0.]\n",
      " [0. 1. 0.]\n",
      " [0. 0. 1.]]\n"
     ]
    }
   ],
   "source": [
    "# rounding the predicted values (yhat)\n",
    "yhat_round = yhat.round()\n",
    "print ('yhat rounded:', '\\n\\n', yhat_round, '\\n\\n')\n",
    "print ('y test:', '\\n\\n', y_test)"
   ]
  },
  {
   "cell_type": "markdown",
   "id": "021a2b8a",
   "metadata": {},
   "source": [
    "### 6a) Classification Report, Confusion Matrix"
   ]
  },
  {
   "cell_type": "code",
   "execution_count": 49,
   "id": "79592d48",
   "metadata": {},
   "outputs": [
    {
     "name": "stdout",
     "output_type": "stream",
     "text": [
      "Classification Report \n",
      "\n",
      "               precision    recall  f1-score   support\n",
      "\n",
      "           0       1.00      1.00      1.00         3\n",
      "           1       1.00      1.00      1.00         8\n",
      "           2       1.00      1.00      1.00         7\n",
      "\n",
      "    accuracy                           1.00        18\n",
      "   macro avg       1.00      1.00      1.00        18\n",
      "weighted avg       1.00      1.00      1.00        18\n",
      " \n",
      "\n",
      "\n"
     ]
    },
    {
     "data": {
      "image/png": "[encoded data removed]",
      "text/plain": [
       "<Figure size 432x288 with 2 Axes>"
      ]
     },
     "metadata": {
      "needs_background": "light"
     },
     "output_type": "display_data"
    }
   ],
   "source": [
    "# Preparing predicted and test values for Classification Report and Confusion Matrix\n",
    "y_pred=numpy.argmax(yhat, axis=1)\n",
    "y_test1=numpy.argmax(y_test, axis=1)\n",
    "\n",
    "# Classification Report\n",
    "model_report = classification_report(y_test1, y_pred)\n",
    "print('Classification Report','\\n\\n' ,model_report, '\\n\\n')\n",
    "\n",
    "\n",
    "# Confusion Matrix\n",
    "cm = confusion_matrix(y_test1, y_pred)\n",
    "# Creating a dataframe for a array-formatted Confusion matrix,so it will be easy for plotting.\n",
    "cm_df = pandas.DataFrame(cm, index = ['0','1','2'], columns = ['0','1','2'])\n",
    "# plotting confusion matrix\n",
    "ax= pyplot.subplot()\n",
    "sns.heatmap(cm_df, annot=True);\n",
    "plt.title('Confusion Matrix', fontsize=26);\n",
    "plt.ylabel('Actual Values', fontsize=26);\n",
    "plt.xlabel('Predicted Values', fontsize=26)\n",
    "plt.show()\n"
   ]
  },
  {
   "cell_type": "markdown",
   "id": "faeda292",
   "metadata": {},
   "source": [
    "**We can see perfect scores for Precision, Recall, and F1-Scores** "
   ]
  },
  {
   "cell_type": "markdown",
   "id": "f6cb6695",
   "metadata": {},
   "source": [
    "### 6b) ROC Score and Curve"
   ]
  },
  {
   "cell_type": "code",
   "execution_count": 54,
   "id": "e45076ca",
   "metadata": {},
   "outputs": [
    {
     "data": {
      "image/png": "[encoded data removed]",
      "text/plain": [
       "<Figure size 432x288 with 1 Axes>"
      ]
     },
     "metadata": {
      "needs_background": "light"
     },
     "output_type": "display_data"
    },
    {
     "data": {
      "image/png": "[encoded data removed]",
      "text/plain": [
       "<Figure size 432x288 with 1 Axes>"
      ]
     },
     "metadata": {
      "needs_background": "light"
     },
     "output_type": "display_data"
    }
   ],
   "source": [
    "# number of class labels\n",
    "n_classes = 3\n",
    "\n",
    "# Plot linewidth.\n",
    "lw = 2\n",
    "\n",
    "# Compute ROC curve and ROC area for each class\n",
    "fpr = dict()\n",
    "tpr = dict()\n",
    "roc_auc = dict()\n",
    "for i in range(n_classes):\n",
    "    fpr[i], tpr[i], _ = roc_curve(y_test[:, i], yhat[:, i])\n",
    "    roc_auc[i] = auc(fpr[i], tpr[i])\n",
    "\n",
    "# Compute micro-average ROC curve and ROC area\n",
    "fpr[\"micro\"], tpr[\"micro\"], _ = roc_curve(y_test.ravel(), yhat.ravel())\n",
    "roc_auc[\"micro\"] = auc(fpr[\"micro\"], tpr[\"micro\"])\n",
    "\n",
    "# Compute macro-average ROC curve and ROC area\n",
    "\n",
    "# First aggregate all false positive rates\n",
    "all_fpr = numpy.unique(numpy.concatenate([fpr[i] for i in range(n_classes)]))\n",
    "\n",
    "# Then interpolate all ROC curves at this points\n",
    "mean_tpr = numpy.zeros_like(all_fpr)\n",
    "for i in range(n_classes):\n",
    "    mean_tpr += interp(all_fpr, fpr[i], tpr[i])\n",
    "\n",
    "# Finally average it and compute AUC\n",
    "mean_tpr /= n_classes\n",
    "\n",
    "fpr[\"macro\"] = all_fpr\n",
    "tpr[\"macro\"] = mean_tpr\n",
    "roc_auc[\"macro\"] = auc(fpr[\"macro\"], tpr[\"macro\"])\n",
    "\n",
    "# Plot all ROC curves\n",
    "plt.figure(1)\n",
    "plt.plot(fpr[\"micro\"], tpr[\"micro\"],\n",
    "         label='micro-average ROC curve (area = {0:0.2f})'\n",
    "               ''.format(roc_auc[\"micro\"]),\n",
    "         color='deeppink', linestyle=':', linewidth=4)\n",
    "\n",
    "plt.plot(fpr[\"macro\"], tpr[\"macro\"],\n",
    "         label='macro-average ROC curve (area = {0:0.2f})'\n",
    "               ''.format(roc_auc[\"macro\"]),\n",
    "         color='navy', linestyle=':', linewidth=4)\n",
    "\n",
    "colors = cycle(['aqua', 'darkorange', 'cornflowerblue'])\n",
    "for i, color in zip(range(n_classes), colors):\n",
    "    plt.plot(fpr[i], tpr[i], color=color, lw=lw,\n",
    "             label='ROC curve of class {0} (area = {1:0.2f})'\n",
    "             ''.format(i, roc_auc[i]))\n",
    "\n",
    "plt.plot([0, 1], [0, 1], 'k--', lw=lw)\n",
    "plt.xlim([0.0, 1.0])\n",
    "plt.ylim([0.0, 1.05])\n",
    "plt.xlabel('False Positive Rate')\n",
    "plt.ylabel('True Positive Rate')\n",
    "plt.title('ROC Curve')\n",
    "plt.legend(loc=\"lower right\")\n",
    "plt.show()\n",
    "\n",
    "\n",
    "# Zoom in view of the upper left corner.\n",
    "plt.figure(2)\n",
    "plt.xlim(0, 0.2)\n",
    "plt.ylim(0.8, 1)\n",
    "plt.plot(fpr[\"micro\"], tpr[\"micro\"],\n",
    "         label='micro-average ROC curve (area = {0:0.2f})'\n",
    "               ''.format(roc_auc[\"micro\"]),\n",
    "         color='deeppink', linestyle=':', linewidth=4)\n",
    "\n",
    "plt.plot(fpr[\"macro\"], tpr[\"macro\"],\n",
    "         label='macro-average ROC curve (area = {0:0.2f})'\n",
    "               ''.format(roc_auc[\"macro\"]),\n",
    "         color='navy', linestyle=':', linewidth=4)\n",
    "\n",
    "colors = cycle(['aqua', 'darkorange', 'cornflowerblue'])\n",
    "for i, color in zip(range(n_classes), colors):\n",
    "    plt.plot(fpr[i], tpr[i], color=color, lw=lw,\n",
    "             label='ROC curve of class {0} (area = {1:0.2f})'\n",
    "             ''.format(i, roc_auc[i]))\n",
    "\n",
    "plt.plot([0, 1], [0, 1], 'k--', lw=lw)\n",
    "plt.xlabel('False Positive Rate')\n",
    "plt.ylabel('True Positive Rate')\n",
    "plt.title('ROC Curve (Zoom in view)')\n",
    "plt.legend(loc=\"lower right\")\n",
    "plt.show()"
   ]
  },
  {
   "cell_type": "markdown",
   "id": "49905c6d",
   "metadata": {},
   "source": [
    "**We can see that the ROC Scores for all 3 classes are a perfect 1**"
   ]
  },
  {
   "cell_type": "markdown",
   "id": "0503e5be",
   "metadata": {},
   "source": [
    "## 7) Conclusions\n",
    "\n",
    "   **Nevertheless we got a perfect result for this problem, it would be interesting to explore other aspects of Artificial Neural Network (Multilayer Perceptrons) like considering and playing around with the hyperparameters tunning more in detail, but this can be computationally expensive**"
   ]
  }
 ],
 "metadata": {
  "kernelspec": {
   "display_name": "Python 3 (ipykernel)",
   "language": "python",
   "name": "python3"
  },
  "language_info": {
   "codemirror_mode": {
    "name": "ipython",
    "version": 3
   },
   "file_extension": ".py",
   "mimetype": "text/x-python",
   "name": "python",
   "nbconvert_exporter": "python",
   "pygments_lexer": "ipython3",
   "version": "3.9.6"
  }
 },
 "nbformat": 4,
 "nbformat_minor": 5
}
